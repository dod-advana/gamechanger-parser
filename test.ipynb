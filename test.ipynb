{
 "cells": [
  {
   "cell_type": "code",
   "execution_count": null,
   "metadata": {},
   "outputs": [],
   "source": [
    "from parse.parse import parse, pdf_to_json\n",
    "\n",
    "out_dir = \"parse_module_test/\"\n",
    "\n",
    "# parse(f_name, out_dir=out_dir)\n",
    "pdf_to_json(source=\"data/\", destination=\"sample_output/\")"
   ]
  }
 ],
 "metadata": {
  "language_info": {
   "name": "python"
  }
 },
 "nbformat": 4,
 "nbformat_minor": 2
}
