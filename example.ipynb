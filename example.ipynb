{
 "cells": [
  {
   "cell_type": "code",
   "execution_count": 5,
   "metadata": {},
   "outputs": [
    {
     "name": "stdout",
     "output_type": "stream",
     "text": [
      "dir path ../data_input/\n",
      "files [PosixPath('../data_input/CJCSI 3520.01C, 9 1 2010 OCR.pdf'), PosixPath('../data_input/DoDD 5535.04, 8 31 1984, Ch 1 11 16 1994, Cc 11 21 2003 OCR.pdf')]\n",
      "Parsing Multiple Documents: %i 2\n",
      "Current Time = 19:54:37\n",
      "2024-03-25 19:54:37,075 - [INFO] - Processing: <_MainProcess name='MainProcess' parent=None started> - Filename: CJCSI 3520.01C, 9 1 2010 OCR.pdf\n",
      "running policy_analyics.parse on ../data_input/CJCSI 3520.01C, 9 1 2010 OCR.pdf\n",
      "ref list ['CJCSI 3520.01B', 'CJCSM 3500.04', 'CJCSI J-3', 'CJCSI 6810.04', 'CJCSI 3520.01C']\n",
      "entities ['Joint Staff J-2', 'CJCS', 'USSTRATCOM', 'Chairman of the Joint Chiefs of Staff', 'JS']\n",
      "2024-03-25 19:54:37,117 - [INFO] - Finished Processing: <_MainProcess name='MainProcess' parent=None started> - Filename: CJCSI 3520.01C, 9 1 2010 OCR.pdf\n",
      "2024-03-25 19:54:37,117 - [INFO] - Processing: <_MainProcess name='MainProcess' parent=None started> - Filename: DoDD 5535.04, 8 31 1984, Ch 1 11 16 1994, Cc 11 21 2003 OCR.pdf\n",
      "running policy_analyics.parse on ../data_input/DoDD 5535.04, 8 31 1984, Ch 1 11 16 1994, Cc 11 21 2003 OCR.pdf\n",
      "ref list ['DoDD 5535.4']\n",
      "entities ['DoD Component', 'United States Department of Defense', 'General Counsel of the Department of Defense', 'Military Departments', 'Office of the Secretary of Defense']\n",
      "2024-03-25 19:54:37,132 - [INFO] - Finished Processing: <_MainProcess name='MainProcess' parent=None started> - Filename: DoDD 5535.04, 8 31 1984, Ch 1 11 16 1994, Cc 11 21 2003 OCR.pdf\n",
      "Current Time = 19:54:37\n",
      "Documents parsed (or attempted): %i 2\n"
     ]
    }
   ],
   "source": [
    "from policy_analytics_parser.parse import policy_text_pipeline\n",
    "from text_extraction.extract_text import generate_extracted_text_from_directory\n",
    "\n",
    "import json\n",
    "from pathlib import Path\n",
    "\n",
    "def writer(out_dir, extracted_text_dict):\n",
    "    outname = Path(extracted_text_dict[\"filename\"]).stem + \".json\"\n",
    "\n",
    "    p = Path(out_dir)\n",
    "    if not p.exists():\n",
    "        p.mkdir()\n",
    "    print('writing to', p.joinpath(outname))\n",
    "    with open(p.joinpath(outname), \"w\") as fp:\n",
    "        json.dump(extracted_text_dict, fp)\n",
    "\n"
   ]
  },
  {
   "cell_type": "code",
   "execution_count": null,
   "metadata": {},
   "outputs": [],
   "source": [
    "print(\"running examples\")\n",
    "try:\n",
    "    # generates extract text dictionaries that can be used in a pipeline etc\n",
    "    for extracted_text_dict in generate_extracted_text_from_directory(source=\"example_input/\"):\n",
    "\n",
    "        # example to write output of extracted text\n",
    "        writer(out_dir=\"./example_output/\", extracted_text_dict=extracted_text_dict)\n",
    "\n",
    "        # use with an entire pipeline\n",
    "        policy_text_pipeline(\n",
    "            extracted_text_dict, \n",
    "            pipeline_args={\"destination\": \"example_policy_analytics_output/\"}\n",
    "        )\n",
    "        \n",
    "except Exception as e:\n",
    "    print(e)\n",
    "finally:\n",
    "    print(\"end example\")"
   ]
  }
 ],
 "metadata": {
  "kernelspec": {
   "display_name": "Python 3 (ipykernel)",
   "language": "python",
   "name": "python3"
  },
  "language_info": {
   "codemirror_mode": {
    "name": "ipython",
    "version": 3
   },
   "file_extension": ".py",
   "mimetype": "text/x-python",
   "name": "python",
   "nbconvert_exporter": "python",
   "pygments_lexer": "ipython3",
   "version": "3.8.10"
  }
 },
 "nbformat": 4,
 "nbformat_minor": 2
}
