{
 "cells": [
  {
   "cell_type": "code",
   "execution_count": null,
   "metadata": {},
   "outputs": [
    {
     "name": "stdout",
     "output_type": "stream",
     "text": [
      "Parsing Multiple Documents: %i 2\n",
      "Current Time = 18:20:49\n",
      "2024-03-05 18:20:49,110 - [INFO] - Processing: <_MainProcess name='MainProcess' parent=None started> - Filename: CJCSI 3520.01C, 9 1 2010 OCR.pdf\n",
      "running policy_analyics.parse on data/CJCSI 3520.01C, 9 1 2010 OCR.pdf\n",
      "2024-03-05 18:20:49,120 - [INFO] - Finished Processing: <_MainProcess name='MainProcess' parent=None started> - Filename: CJCSI 3520.01C, 9 1 2010 OCR.pdf\n",
      "2024-03-05 18:20:49,120 - [INFO] - Processing: <_MainProcess name='MainProcess' parent=None started> - Filename: DoDD 5535.04, 8 31 1984, Ch 1 11 16 1994, Cc 11 21 2003 OCR.pdf\n",
      "running policy_analyics.parse on data/DoDD 5535.04, 8 31 1984, Ch 1 11 16 1994, Cc 11 21 2003 OCR.pdf\n",
      "2024-03-05 18:20:49,126 - [INFO] - Finished Processing: <_MainProcess name='MainProcess' parent=None started> - Filename: DoDD 5535.04, 8 31 1984, Ch 1 11 16 1994, Cc 11 21 2003 OCR.pdf\n",
      "Current Time = 18:20:49\n",
      "Documents parsed (or attempted): %i 2\n"
     ]
    }
   ],
   "source": [
    "import sys\n",
    "sys.path.append('../') # Set Parent Dir\n",
    "\n",
    "from parsers.parse import parse, pdf_to_json\n",
    "\n",
    "out_dir = \"parse_module_test/\"\n",
    "\n",
    "# parse(f_name, out_dir=out_dir)\n",
    "pdf_to_json(source=\"data/\", destination=\"sample_output/\")"
   ]
  },
  {
   "cell_type": "code",
   "execution_count": null,
   "metadata": {},
   "outputs": [],
   "source": []
  }
 ],
 "metadata": {
  "kernelspec": {
   "display_name": "Python 3 (ipykernel)",
   "language": "python",
   "name": "python3"
  },
  "language_info": {
   "codemirror_mode": {
    "name": "ipython",
    "version": 3
   },
   "file_extension": ".py",
   "mimetype": "text/x-python",
   "name": "python",
   "nbconvert_exporter": "python",
   "pygments_lexer": "ipython3",
   "version": "3.8.10"
  }
 },
 "nbformat": 4,
 "nbformat_minor": 2
}
