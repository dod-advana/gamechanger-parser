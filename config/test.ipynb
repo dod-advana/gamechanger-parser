{
 "cells": [
  {
   "cell_type": "code",
   "execution_count": 5,
   "metadata": {},
   "outputs": [
    {
     "name": "stdout",
     "output_type": "stream",
     "text": [
      "dir path ../data_input/\n",
      "files [PosixPath('../data_input/CJCSI 3520.01C, 9 1 2010 OCR.pdf'), PosixPath('../data_input/DoDD 5535.04, 8 31 1984, Ch 1 11 16 1994, Cc 11 21 2003 OCR.pdf')]\n",
      "Parsing Multiple Documents: %i 2\n",
      "Current Time = 19:54:37\n",
      "2024-03-25 19:54:37,075 - [INFO] - Processing: <_MainProcess name='MainProcess' parent=None started> - Filename: CJCSI 3520.01C, 9 1 2010 OCR.pdf\n",
      "running policy_analyics.parse on ../data_input/CJCSI 3520.01C, 9 1 2010 OCR.pdf\n",
      "ref list ['CJCSI 3520.01B', 'CJCSM 3500.04', 'CJCSI J-3', 'CJCSI 6810.04', 'CJCSI 3520.01C']\n",
      "entities ['Joint Staff J-2', 'CJCS', 'USSTRATCOM', 'Chairman of the Joint Chiefs of Staff', 'JS']\n",
      "2024-03-25 19:54:37,117 - [INFO] - Finished Processing: <_MainProcess name='MainProcess' parent=None started> - Filename: CJCSI 3520.01C, 9 1 2010 OCR.pdf\n",
      "2024-03-25 19:54:37,117 - [INFO] - Processing: <_MainProcess name='MainProcess' parent=None started> - Filename: DoDD 5535.04, 8 31 1984, Ch 1 11 16 1994, Cc 11 21 2003 OCR.pdf\n",
      "running policy_analyics.parse on ../data_input/DoDD 5535.04, 8 31 1984, Ch 1 11 16 1994, Cc 11 21 2003 OCR.pdf\n",
      "ref list ['DoDD 5535.4']\n",
      "entities ['DoD Component', 'United States Department of Defense', 'General Counsel of the Department of Defense', 'Military Departments', 'Office of the Secretary of Defense']\n",
      "2024-03-25 19:54:37,132 - [INFO] - Finished Processing: <_MainProcess name='MainProcess' parent=None started> - Filename: DoDD 5535.04, 8 31 1984, Ch 1 11 16 1994, Cc 11 21 2003 OCR.pdf\n",
      "Current Time = 19:54:37\n",
      "Documents parsed (or attempted): %i 2\n"
     ]
    }
   ],
   "source": [
    "import sys\n",
    "sys.path.append('../') # Set Parent Dir\n",
    "\n",
    "from parsers.parse import pdf_to_json\n",
    "\n",
    "pdf_to_json(source=\"../data_input/\", destination=\"../sample_output/\")"
   ]
  },
  {
   "cell_type": "code",
   "execution_count": null,
   "metadata": {},
   "outputs": [],
   "source": []
  }
 ],
 "metadata": {
  "kernelspec": {
   "display_name": "Python 3 (ipykernel)",
   "language": "python",
   "name": "python3"
  },
  "language_info": {
   "codemirror_mode": {
    "name": "ipython",
    "version": 3
   },
   "file_extension": ".py",
   "mimetype": "text/x-python",
   "name": "python",
   "nbconvert_exporter": "python",
   "pygments_lexer": "ipython3",
   "version": "3.8.10"
  }
 },
 "nbformat": 4,
 "nbformat_minor": 2
}
