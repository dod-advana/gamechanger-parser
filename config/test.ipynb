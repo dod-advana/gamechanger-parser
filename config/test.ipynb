{
 "cells": [
  {
   "cell_type": "code",
   "execution_count": 7,
   "metadata": {},
   "outputs": [
    {
     "name": "stdout",
     "output_type": "stream",
     "text": [
      "Parsing Multiple Documents: %i 2\n",
      "Current Time = 12:51:37\n",
      "2024-03-14 12:51:37,999 - [INFO] - Processing: <_MainProcess name='MainProcess' parent=None started> - Filename: CJCSI 3520.01C, 9 1 2010 OCR.pdf\n",
      "running policy_analyics.parse on ../data/CJCSI 3520.01C, 9 1 2010 OCR.pdf\n",
      "2024-03-14 12:51:38,008 - [INFO] - Finished Processing: <_MainProcess name='MainProcess' parent=None started> - Filename: CJCSI 3520.01C, 9 1 2010 OCR.pdf\n",
      "2024-03-14 12:51:38,008 - [INFO] - Processing: <_MainProcess name='MainProcess' parent=None started> - Filename: DoDD 5535.04, 8 31 1984, Ch 1 11 16 1994, Cc 11 21 2003 OCR.pdf\n",
      "running policy_analyics.parse on ../data/DoDD 5535.04, 8 31 1984, Ch 1 11 16 1994, Cc 11 21 2003 OCR.pdf\n",
      "2024-03-14 12:51:38,014 - [INFO] - Finished Processing: <_MainProcess name='MainProcess' parent=None started> - Filename: DoDD 5535.04, 8 31 1984, Ch 1 11 16 1994, Cc 11 21 2003 OCR.pdf\n",
      "Current Time = 12:51:38\n",
      "Documents parsed (or attempted): %i 2\n"
     ]
    }
   ],
   "source": [
    "import sys\n",
    "sys.path.append('../') # Set Parent Dir\n",
    "\n",
    "from parsers.parse import parse, pdf_to_json\n",
    "\n",
    "out_dir = \"parse_module_test/\"\n",
    "\n",
    "# parse(f_name, out_dir=out_dir)\n",
    "pdf_to_json(source=\"../data/\", destination=\"../sample_output/\")"
   ]
  }
 ],
 "metadata": {
  "kernelspec": {
   "display_name": "Python 3 (ipykernel)",
   "language": "python",
   "name": "python3"
  }
 },
 "nbformat": 4,
 "nbformat_minor": 2
}
